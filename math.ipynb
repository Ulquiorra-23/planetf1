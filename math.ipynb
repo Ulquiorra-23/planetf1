{
 "cells": [
  {
   "cell_type": "code",
   "execution_count": 10,
   "id": "a5e20fdc",
   "metadata": {},
   "outputs": [
    {
     "name": "stdout",
     "output_type": "stream",
     "text": [
      "\n",
      "🏁 Optimized F1 Calendar:\n",
      "01. Sakhir\n",
      "02. Lusail\n",
      "03. Yas Island\n",
      "04. Jeddah\n",
      "05. Baku\n",
      "06. Imola\n",
      "07. Monza\n",
      "08. Monaco\n",
      "09. Barcelona\n",
      "10. Spa-Francorchamps\n",
      "11. Zandvoort\n",
      "12. Silverstone\n",
      "13. Spielberg\n",
      "14. Budapest\n",
      "15. Miami\n",
      "16. Austin\n",
      "17. Mexico City\n",
      "18. Las Vegas\n",
      "19. Montréal\n",
      "20. São Paulo\n",
      "21. Melbourne\n",
      "22. Marina Bay\n",
      "23. Shanghai\n",
      "24. Suzuka\n"
     ]
    }
   ],
   "source": [
    "import numpy as np\n",
    "from sklearn.cluster import KMeans\n",
    "from collections import defaultdict\n",
    "from math import radians, cos, sin, asin, sqrt\n",
    "import sqlite3\n",
    "\n",
    "# -------------------------------\n",
    "# 📍 Race Locations (lat, lon)\n",
    "# Add or modify as needed\n",
    "# -------------------------------\n",
    "# Connect to the database\n",
    "conn = sqlite3.connect('planet_fone.db')\n",
    "cursor = conn.cursor()\n",
    "\n",
    "# Query to fetch race locations and their lat/lon\n",
    "query = \"\"\"\n",
    "SELECT fc.circuit, fg.latitude, fg.longitude\n",
    "FROM fone_calendar fc\n",
    "JOIN fone_geography fg ON fc.geo_id = fg.id\n",
    "WHERE fc.year = 2025\n",
    "\"\"\"\n",
    "cursor.execute(query)\n",
    "\n",
    "# Build the race_locations dictionary\n",
    "race_locations = {row[0]: (row[1], row[2]) for row in cursor.fetchall()}\n",
    "\n",
    "# Close the database connection\n",
    "conn.close()\n",
    "\n",
    "track_names = list(race_locations.keys())\n",
    "locations = np.array(list(race_locations.values()))\n",
    "\n",
    "# -------------------------------\n",
    "# 🌍 Haversine Distance Function\n",
    "# -------------------------------\n",
    "def haversine(loc1, loc2):\n",
    "    lat1, lon1 = loc1\n",
    "    lat2, lon2 = loc2\n",
    "    # convert to radians\n",
    "    lat1, lon1, lat2, lon2 = map(radians, [lat1, lon1, lat2, lon2])\n",
    "    dlat = lat2 - lat1\n",
    "    dlon = lon2 - lon1\n",
    "    a = sin(dlat/2)**2 + cos(lat1) * cos(lat2) * sin(dlon/2)**2\n",
    "    c = 2 * asin(sqrt(a))\n",
    "    return 6371 * c  # Radius of Earth in km\n",
    "\n",
    "# -------------------------------\n",
    "# Step 1: Cluster the Races\n",
    "# -------------------------------\n",
    "n_clusters = 4\n",
    "kmeans = KMeans(n_clusters=n_clusters, random_state=42).fit(locations)\n",
    "labels = kmeans.labels_\n",
    "\n",
    "clusters = defaultdict(list)\n",
    "for i, label in enumerate(labels):\n",
    "    clusters[label].append(track_names[i])\n",
    "\n",
    "# -------------------------------\n",
    "# Step 2: TSP within Clusters\n",
    "# -------------------------------\n",
    "def nearest_neighbor_tsp(track_list):\n",
    "    unvisited = track_list[:]\n",
    "    path = [unvisited.pop(0)]\n",
    "    while unvisited:\n",
    "        last = path[-1]\n",
    "        next_track = min(unvisited, key=lambda t: haversine(race_locations[last], race_locations[t]))\n",
    "        path.append(next_track)\n",
    "        unvisited.remove(next_track)\n",
    "    return path\n",
    "\n",
    "# -------------------------------\n",
    "# Step 3: Cluster Centroids\n",
    "# -------------------------------\n",
    "cluster_centroids = {}\n",
    "for cluster_id, tracks in clusters.items():\n",
    "    lats = [race_locations[t][0] for t in tracks]\n",
    "    lons = [race_locations[t][1] for t in tracks]\n",
    "    cluster_centroids[cluster_id] = (np.mean(lats), np.mean(lons))\n",
    "\n",
    "# -------------------------------\n",
    "# Step 4: TSP over Clusters\n",
    "# -------------------------------\n",
    "def tsp_on_centroids(cluster_order):\n",
    "    unvisited = cluster_order[:]\n",
    "    path = [unvisited.pop(0)]\n",
    "    while unvisited:\n",
    "        last = path[-1]\n",
    "        next_cluster = min(unvisited, key=lambda c: haversine(cluster_centroids[last], cluster_centroids[c]))\n",
    "        path.append(next_cluster)\n",
    "        unvisited.remove(next_cluster)\n",
    "    return path\n",
    "\n",
    "cluster_order = tsp_on_centroids(list(clusters.keys()))\n",
    "\n",
    "# -------------------------------\n",
    "# Step 5: Flatten Final Schedule\n",
    "# -------------------------------\n",
    "final_schedule = []\n",
    "for cid in cluster_order:\n",
    "    intra_cluster_schedule = nearest_neighbor_tsp(clusters[cid])\n",
    "    final_schedule.extend(intra_cluster_schedule)\n",
    "\n",
    "# -------------------------------\n",
    "# Done! Print Final Calendar\n",
    "# -------------------------------\n",
    "print(\"\\n🏁 Optimized F1 Calendar:\")\n",
    "for i, race in enumerate(final_schedule, 1):\n",
    "    print(f\"{i:02d}. {race}\")\n"
   ]
  },
  {
   "cell_type": "code",
   "execution_count": 9,
   "id": "b93f7412",
   "metadata": {},
   "outputs": [
    {
     "data": {
      "text/plain": [
       "20"
      ]
     },
     "execution_count": 9,
     "metadata": {},
     "output_type": "execute_result"
    }
   ],
   "source": [
    "len(track_names)"
   ]
  },
  {
   "cell_type": "code",
   "execution_count": 2,
   "id": "37e9c141",
   "metadata": {},
   "outputs": [
    {
     "name": "stdout",
     "output_type": "stream",
     "text": [
      "Note: you may need to restart the kernel to use updated packages.\n",
      "Note: you may need to restart the kernel to use updated packages.\n"
     ]
    }
   ],
   "source": [
    "%pip install -q numpy scikit-learn\n",
    "%pip install -q matplotlib"
   ]
  },
  {
   "cell_type": "code",
   "execution_count": null,
   "id": "f1711731",
   "metadata": {},
   "outputs": [],
   "source": []
  }
 ],
 "metadata": {
  "kernelspec": {
   "display_name": "Python 3",
   "language": "python",
   "name": "python3"
  },
  "language_info": {
   "codemirror_mode": {
    "name": "ipython",
    "version": 3
   },
   "file_extension": ".py",
   "mimetype": "text/x-python",
   "name": "python",
   "nbconvert_exporter": "python",
   "pygments_lexer": "ipython3",
   "version": "3.12.5"
  }
 },
 "nbformat": 4,
 "nbformat_minor": 5
}
