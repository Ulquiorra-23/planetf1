{
 "cells": [
  {
   "cell_type": "code",
   "execution_count": 10,
   "id": "a5e20fdc",
   "metadata": {},
   "outputs": [
    {
     "name": "stdout",
     "output_type": "stream",
     "text": [
      "\n",
      "🏁 Optimized F1 Calendar:\n",
      "01. Sakhir\n",
      "02. Lusail\n",
      "03. Yas Island\n",
      "04. Jeddah\n",
      "05. Baku\n",
      "06. Imola\n",
      "07. Monza\n",
      "08. Monaco\n",
      "09. Barcelona\n",
      "10. Spa-Francorchamps\n",
      "11. Zandvoort\n",
      "12. Silverstone\n",
      "13. Spielberg\n",
      "14. Budapest\n",
      "15. Miami\n",
      "16. Austin\n",
      "17. Mexico City\n",
      "18. Las Vegas\n",
      "19. Montréal\n",
      "20. São Paulo\n",
      "21. Melbourne\n",
      "22. Marina Bay\n",
      "23. Shanghai\n",
      "24. Suzuka\n"
     ]
    }
   ],
   "source": [
    "import numpy as np\n",
    "from sklearn.cluster import KMeans\n",
    "from collections import defaultdict\n",
    "from math import radians, cos, sin, asin, sqrt\n",
    "import sqlite3\n",
    "\n",
    "# -------------------------------\n",
    "# 📍 Race Locations (lat, lon)\n",
    "# Add or modify as needed\n",
    "# -------------------------------\n",
    "# Connect to the database\n",
    "conn = sqlite3.connect('planet_fone.db')\n",
    "cursor = conn.cursor()\n",
    "\n",
    "# Query to fetch race locations and their lat/lon\n",
    "query = \"\"\"\n",
    "SELECT fc.circuit, fg.latitude, fg.longitude\n",
    "FROM fone_calendar fc\n",
    "JOIN fone_geography fg ON fc.geo_id = fg.id\n",
    "WHERE fc.year = 2025\n",
    "\"\"\"\n",
    "cursor.execute(query)\n",
    "\n",
    "# Build the race_locations dictionary\n",
    "race_locations = {row[0]: (row[1], row[2]) for row in cursor.fetchall()}\n",
    "\n",
    "# Close the database connection\n",
    "conn.close()\n",
    "\n",
    "track_names = list(race_locations.keys())\n",
    "locations = np.array(list(race_locations.values()))\n",
    "\n",
    "# -------------------------------\n",
    "# 🌍 Haversine Distance Function\n",
    "# -------------------------------\n",
    "def haversine(loc1, loc2):\n",
    "    lat1, lon1 = loc1\n",
    "    lat2, lon2 = loc2\n",
    "    # convert to radians\n",
    "    lat1, lon1, lat2, lon2 = map(radians, [lat1, lon1, lat2, lon2])\n",
    "    dlat = lat2 - lat1\n",
    "    dlon = lon2 - lon1\n",
    "    a = sin(dlat/2)**2 + cos(lat1) * cos(lat2) * sin(dlon/2)**2\n",
    "    c = 2 * asin(sqrt(a))\n",
    "    return 6371 * c  # Radius of Earth in km\n",
    "\n",
    "# -------------------------------\n",
    "# Step 1: Cluster the Races\n",
    "# -------------------------------\n",
    "n_clusters = 4\n",
    "kmeans = KMeans(n_clusters=n_clusters, random_state=42).fit(locations)\n",
    "labels = kmeans.labels_\n",
    "\n",
    "clusters = defaultdict(list)\n",
    "for i, label in enumerate(labels):\n",
    "    clusters[label].append(track_names[i])\n",
    "\n",
    "# -------------------------------\n",
    "# Step 2: TSP within Clusters\n",
    "# -------------------------------\n",
    "def nearest_neighbor_tsp(track_list):\n",
    "    unvisited = track_list[:]\n",
    "    path = [unvisited.pop(0)]\n",
    "    while unvisited:\n",
    "        last = path[-1]\n",
    "        next_track = min(unvisited, key=lambda t: haversine(race_locations[last], race_locations[t]))\n",
    "        path.append(next_track)\n",
    "        unvisited.remove(next_track)\n",
    "    return path\n",
    "\n",
    "# -------------------------------\n",
    "# Step 3: Cluster Centroids\n",
    "# -------------------------------\n",
    "cluster_centroids = {}\n",
    "for cluster_id, tracks in clusters.items():\n",
    "    lats = [race_locations[t][0] for t in tracks]\n",
    "    lons = [race_locations[t][1] for t in tracks]\n",
    "    cluster_centroids[cluster_id] = (np.mean(lats), np.mean(lons))\n",
    "\n",
    "# -------------------------------\n",
    "# Step 4: TSP over Clusters\n",
    "# -------------------------------\n",
    "def tsp_on_centroids(cluster_order):\n",
    "    unvisited = cluster_order[:]\n",
    "    path = [unvisited.pop(0)]\n",
    "    while unvisited:\n",
    "        last = path[-1]\n",
    "        next_cluster = min(unvisited, key=lambda c: haversine(cluster_centroids[last], cluster_centroids[c]))\n",
    "        path.append(next_cluster)\n",
    "        unvisited.remove(next_cluster)\n",
    "    return path\n",
    "\n",
    "cluster_order = tsp_on_centroids(list(clusters.keys()))\n",
    "\n",
    "# -------------------------------\n",
    "# Step 5: Flatten Final Schedule\n",
    "# -------------------------------\n",
    "final_schedule = []\n",
    "for cid in cluster_order:\n",
    "    intra_cluster_schedule = nearest_neighbor_tsp(clusters[cid])\n",
    "    final_schedule.extend(intra_cluster_schedule)\n",
    "\n",
    "# -------------------------------\n",
    "# Done! Print Final Calendar\n",
    "# -------------------------------\n",
    "print(\"\\n🏁 Optimized F1 Calendar:\")\n",
    "for i, race in enumerate(final_schedule, 1):\n",
    "    print(f\"{i:02d}. {race}\")\n"
   ]
  },
  {
   "cell_type": "code",
   "execution_count": 9,
   "id": "b93f7412",
   "metadata": {},
   "outputs": [
    {
     "data": {
      "text/plain": [
       "20"
      ]
     },
     "execution_count": 9,
     "metadata": {},
     "output_type": "execute_result"
    }
   ],
   "source": [
    "len(track_names)"
   ]
  },
  {
   "cell_type": "code",
   "execution_count": 2,
   "id": "37e9c141",
   "metadata": {},
   "outputs": [
    {
     "name": "stdout",
     "output_type": "stream",
     "text": [
      "Note: you may need to restart the kernel to use updated packages.\n",
      "Note: you may need to restart the kernel to use updated packages.\n"
     ]
    }
   ],
   "source": [
    "%pip install -q numpy scikit-learn\n",
    "%pip install -q matplotlib"
   ]
  },
  {
   "cell_type": "code",
   "execution_count": 7,
   "id": "d9b856d9",
   "metadata": {},
   "outputs": [],
   "source": [
    "import random\n",
    "import datetime"
   ]
  },
  {
   "cell_type": "code",
   "execution_count": 27,
   "id": "fb385fce",
   "metadata": {},
   "outputs": [],
   "source": [
    "year = 2030\n",
    "n = 1\n",
    "\n",
    "random.seed(42)  # For reproducibility\n",
    "\n",
    "# Step 1: Generate all Sundays in the year\n",
    "sundays = []\n",
    "dt = datetime.date(year, 1, 1)\n",
    "while dt.year == year:\n",
    "    if dt.weekday() == 6:  # Sunday\n",
    "        sundays.append(dt)\n",
    "    dt += datetime.timedelta(days=1)"
   ]
  },
  {
   "cell_type": "code",
   "execution_count": 154,
   "id": "30d2505c",
   "metadata": {},
   "outputs": [],
   "source": [
    "def generate_calendar(year: int, n: int) -> list[str]:\n",
    "    assert 2026 <= year <= 2030, \"Year must be between 2026 and 2030\"\n",
    "    assert 15 <= n <= 25, \"Races must be between 15 and 25\"\n",
    "\n",
    "    sundays = []\n",
    "    dt = datetime.date(year, 1, 1)\n",
    "    while dt.year == year:\n",
    "        if dt.weekday() == 6:\n",
    "            sundays.append(dt)\n",
    "        dt += datetime.timedelta(days=1)\n",
    "\n",
    "    season_start = max([d for d in sundays if d.month == 2])\n",
    "    season_end = min([d for d in sundays if d.month == 12])\n",
    "    sundays = [d for d in sundays if season_start <= d <= season_end]\n",
    "\n",
    "\n",
    "    sundays = [d for d in sundays if not (d.month == 8 and d.day <= 21)]\n",
    "\n",
    "\n",
    "    race_days = []\n",
    "    triple_header_count = 0\n",
    "    i = 0\n",
    "    p = 1\n",
    "\n",
    "    # Determine triple-header constraints\n",
    "    if n == 25:\n",
    "        triple_header = 3\n",
    "    elif n > 21:\n",
    "        triple_header = 2\n",
    "    elif n > 19:\n",
    "        triple_header = 1\n",
    "    else:\n",
    "        triple_header = 0\n",
    "\n",
    "    while len(race_days) < n and i < len(sundays):\n",
    "        current = sundays[i]\n",
    "\n",
    "        # Avoid 4-in-a-row\n",
    "        if len(race_days) >= 3:\n",
    "            d1, d2, d3 = race_days[-3], race_days[-2], race_days[-1]\n",
    "            if (\n",
    "                (d2 - d1).days == 7 and\n",
    "                (d3 - d2).days == 7 and\n",
    "                (current - d3).days == 7\n",
    "            ):\n",
    "                i += 1\n",
    "                continue  # skip to avoid 4-in-a-row\n",
    "        # Insert a triple-header if we're at the beginning or near the end and still allowed\n",
    "        if (\n",
    "            triple_header_count < triple_header and\n",
    "            len(race_days) + 3 <= n and\n",
    "            i + 2 < len(sundays) and\n",
    "            p == 0\n",
    "        ):\n",
    "            s1, s2, s3 = sundays[i], sundays[i + 1], sundays[i + 2]\n",
    "            if (s2 - s1).days == 7 and (s3 - s2).days == 7:\n",
    "                race_days.extend([s1, s2, s3])\n",
    "                triple_header_count += 1\n",
    "                i += 3\n",
    "                p = triple_header_count+1 if triple_header == 3 else triple_header_count+6\n",
    "                continue\n",
    "\n",
    "        # Otherwise add this Sunday and the next one with a 2-week gap\n",
    "        if not race_days or (current - race_days[-1]).days >= 14:\n",
    "            race_days.append(current)\n",
    "            if i + 1 < len(sundays):\n",
    "                race_days.append(sundays[i + 1])\n",
    "                if triple_header_count < 3:\n",
    "                    p -= 1  # allow triple-header next time\n",
    "                else:\n",
    "                    p = 1\n",
    "                i += 2\n",
    "                \n",
    "\n",
    "        i += 1\n",
    "\n",
    "    # Truncate to n races\n",
    "    race_days = race_days[:n]\n",
    "    return [d.strftime(\"%d-%m\") for d in race_days]"
   ]
  },
  {
   "cell_type": "code",
   "execution_count": 165,
   "id": "9f5b844b",
   "metadata": {},
   "outputs": [],
   "source": [
    "sundays = generate_calendar(2028, 23)"
   ]
  },
  {
   "cell_type": "code",
   "execution_count": 166,
   "id": "d0176698",
   "metadata": {},
   "outputs": [
    {
     "data": {
      "text/plain": [
       "[['19-03', '26-03', '02-04'], ['01-10', '08-10', '15-10']]"
      ]
     },
     "execution_count": 166,
     "metadata": {},
     "output_type": "execute_result"
    }
   ],
   "source": [
    "# Find all triplets of consecutive Sundays in the 'sundays' list\n",
    "consecutive_triplets = [\n",
    "    sundays[i:i+3]\n",
    "    for i in range(len(sundays) - 2)\n",
    "    if (datetime.datetime.strptime(sundays[i+1], \"%d-%m\").date() - datetime.datetime.strptime(sundays[i], \"%d-%m\").date()).days == 7 and\n",
    "       (datetime.datetime.strptime(sundays[i+2], \"%d-%m\").date() - datetime.datetime.strptime(sundays[i+1], \"%d-%m\").date()).days == 7\n",
    "]\n",
    "\n",
    "# Count the number of triplets\n",
    "len(consecutive_triplets)\n",
    "consecutive_triplets"
   ]
  },
  {
   "cell_type": "code",
   "execution_count": 167,
   "id": "e554010e",
   "metadata": {},
   "outputs": [
    {
     "data": {
      "text/plain": [
       "23"
      ]
     },
     "execution_count": 167,
     "metadata": {},
     "output_type": "execute_result"
    }
   ],
   "source": [
    "len(sundays)"
   ]
  },
  {
   "cell_type": "code",
   "execution_count": 168,
   "id": "7c82c862",
   "metadata": {},
   "outputs": [
    {
     "data": {
      "text/plain": [
       "['27-02',\n",
       " '05-03',\n",
       " '19-03',\n",
       " '26-03',\n",
       " '02-04',\n",
       " '16-04',\n",
       " '23-04',\n",
       " '07-05',\n",
       " '14-05',\n",
       " '28-05',\n",
       " '04-06',\n",
       " '18-06',\n",
       " '25-06',\n",
       " '09-07',\n",
       " '16-07',\n",
       " '30-07',\n",
       " '27-08',\n",
       " '10-09',\n",
       " '17-09',\n",
       " '01-10',\n",
       " '08-10',\n",
       " '15-10',\n",
       " '29-10']"
      ]
     },
     "execution_count": 168,
     "metadata": {},
     "output_type": "execute_result"
    }
   ],
   "source": [
    "sundays"
   ]
  },
  {
   "cell_type": "code",
   "execution_count": 54,
   "id": "d1b86ce6",
   "metadata": {},
   "outputs": [],
   "source": [
    "triple_headers=3"
   ]
  },
  {
   "cell_type": "code",
   "execution_count": 74,
   "id": "4860f873",
   "metadata": {},
   "outputs": [
    {
     "name": "stdout",
     "output_type": "stream",
     "text": [
      "Selected Triplets:\n",
      "[datetime.date(2028, 7, 2), datetime.date(2028, 7, 9), datetime.date(2028, 7, 16)]\n",
      "[datetime.date(2028, 4, 2), datetime.date(2028, 4, 9), datetime.date(2028, 4, 16)]\n",
      "[datetime.date(2028, 3, 5), datetime.date(2028, 3, 12), datetime.date(2028, 3, 19)]\n"
     ]
    }
   ],
   "source": [
    "random.seed(23)  # For reproducibility\n",
    "\n",
    "# Ensure there are enough Sundays to pick triple_headers triplets\n",
    "if len(sundays) < triple_headers * 3:\n",
    "    raise ValueError(\"Not enough Sundays to pick the required number of triplets.\")\n",
    "\n",
    "# Find all possible triplets of consecutive Sundays\n",
    "triplets = [\n",
    "    sundays[i:i+3]\n",
    "    for i in range(len(sundays) - 2)\n",
    "    if (sundays[i+1] - sundays[i]).days == 7 and (sundays[i+2] - sundays[i+1]).days == 7\n",
    "]\n",
    "\n",
    "# Randomly pick triple_headers triplets ensuring at least one Sunday from one triplet and another\n",
    "selected_triplets = []\n",
    "used_sundays = set()\n",
    "\n",
    "while len(selected_triplets) < triple_headers:\n",
    "    triplet = random.choice(triplets)\n",
    "    if not any(sunday in used_sundays for sunday in triplet):\n",
    "        selected_triplets.append(triplet)\n",
    "        used_sundays.update(triplet)\n",
    "        \n",
    "        # Add min(date) - 7 days if it exists in sundays\n",
    "        min_date_minus_7 = min(triplet) - datetime.timedelta(days=7)\n",
    "        if min_date_minus_7 in sundays:\n",
    "            used_sundays.add(min_date_minus_7)\n",
    "        \n",
    "        # Add max(date) + 7 days if it exists in sundays\n",
    "        max_date_plus_7 = max(triplet) + datetime.timedelta(days=7)\n",
    "        if max_date_plus_7 in sundays:\n",
    "            used_sundays.add(max_date_plus_7)\n",
    "\n",
    "\n",
    "print(\"Selected Triplets:\")\n",
    "for triplet in selected_triplets:\n",
    "    print(triplet)"
   ]
  },
  {
   "cell_type": "code",
   "execution_count": 56,
   "id": "b6c1a8bd",
   "metadata": {},
   "outputs": [],
   "source": [
    "n=25"
   ]
  },
  {
   "cell_type": "code",
   "execution_count": 75,
   "id": "3f05aed3",
   "metadata": {},
   "outputs": [
    {
     "name": "stdout",
     "output_type": "stream",
     "text": [
      "Picked Sunday: 2028-05-07\n",
      "Remaining Pool: [datetime.date(2028, 5, 21), datetime.date(2028, 11, 26), datetime.date(2028, 6, 18), datetime.date(2028, 6, 4), datetime.date(2028, 10, 1), datetime.date(2028, 9, 24), datetime.date(2028, 10, 8), datetime.date(2028, 10, 15), datetime.date(2028, 10, 29), datetime.date(2028, 5, 14), datetime.date(2028, 5, 28), datetime.date(2028, 6, 11), datetime.date(2028, 7, 30), datetime.date(2028, 9, 17), datetime.date(2028, 9, 3), datetime.date(2028, 11, 12), datetime.date(2028, 11, 5), datetime.date(2028, 10, 22), datetime.date(2028, 11, 19), datetime.date(2028, 8, 27), datetime.date(2028, 9, 10)]\n",
      "Final Calendar length: 10\n",
      "Picked Sunday: 2028-06-18\n",
      "Remaining Pool: [datetime.date(2028, 5, 21), datetime.date(2028, 11, 26), datetime.date(2028, 6, 4), datetime.date(2028, 10, 1), datetime.date(2028, 9, 24), datetime.date(2028, 10, 8), datetime.date(2028, 10, 15), datetime.date(2028, 10, 29), datetime.date(2028, 5, 14), datetime.date(2028, 5, 28), datetime.date(2028, 6, 11), datetime.date(2028, 7, 30), datetime.date(2028, 9, 17), datetime.date(2028, 9, 3), datetime.date(2028, 11, 12), datetime.date(2028, 11, 5), datetime.date(2028, 10, 22), datetime.date(2028, 11, 19), datetime.date(2028, 8, 27), datetime.date(2028, 9, 10)]\n",
      "Final Calendar length: 11\n",
      "Picked Sunday: 2028-05-21\n",
      "Remaining Pool: [datetime.date(2028, 11, 26), datetime.date(2028, 6, 4), datetime.date(2028, 10, 1), datetime.date(2028, 9, 24), datetime.date(2028, 10, 8), datetime.date(2028, 10, 15), datetime.date(2028, 10, 29), datetime.date(2028, 5, 28), datetime.date(2028, 6, 11), datetime.date(2028, 7, 30), datetime.date(2028, 9, 17), datetime.date(2028, 9, 3), datetime.date(2028, 11, 12), datetime.date(2028, 11, 5), datetime.date(2028, 10, 22), datetime.date(2028, 11, 19), datetime.date(2028, 8, 27), datetime.date(2028, 9, 10)]\n",
      "Final Calendar length: 12\n",
      "Picked Sunday: 2028-07-30\n",
      "Remaining Pool: [datetime.date(2028, 11, 26), datetime.date(2028, 6, 4), datetime.date(2028, 10, 1), datetime.date(2028, 9, 24), datetime.date(2028, 10, 8), datetime.date(2028, 10, 15), datetime.date(2028, 10, 29), datetime.date(2028, 5, 28), datetime.date(2028, 6, 11), datetime.date(2028, 9, 17), datetime.date(2028, 9, 3), datetime.date(2028, 11, 12), datetime.date(2028, 11, 5), datetime.date(2028, 10, 22), datetime.date(2028, 11, 19), datetime.date(2028, 8, 27), datetime.date(2028, 9, 10)]\n",
      "Final Calendar length: 13\n",
      "Picked Sunday: 2028-10-22\n",
      "Remaining Pool: [datetime.date(2028, 11, 26), datetime.date(2028, 6, 4), datetime.date(2028, 10, 1), datetime.date(2028, 9, 24), datetime.date(2028, 10, 8), datetime.date(2028, 10, 15), datetime.date(2028, 10, 29), datetime.date(2028, 5, 28), datetime.date(2028, 6, 11), datetime.date(2028, 9, 17), datetime.date(2028, 9, 3), datetime.date(2028, 11, 12), datetime.date(2028, 11, 5), datetime.date(2028, 11, 19), datetime.date(2028, 8, 27), datetime.date(2028, 9, 10)]\n",
      "Final Calendar length: 14\n",
      "Picked Sunday: 2028-11-05\n",
      "Remaining Pool: [datetime.date(2028, 11, 26), datetime.date(2028, 6, 4), datetime.date(2028, 10, 1), datetime.date(2028, 9, 24), datetime.date(2028, 10, 8), datetime.date(2028, 10, 15), datetime.date(2028, 5, 28), datetime.date(2028, 6, 11), datetime.date(2028, 9, 17), datetime.date(2028, 9, 3), datetime.date(2028, 11, 12), datetime.date(2028, 11, 19), datetime.date(2028, 8, 27), datetime.date(2028, 9, 10)]\n",
      "Final Calendar length: 15\n",
      "Picked Sunday: 2028-09-17\n",
      "Remaining Pool: [datetime.date(2028, 11, 26), datetime.date(2028, 6, 4), datetime.date(2028, 10, 1), datetime.date(2028, 9, 24), datetime.date(2028, 10, 8), datetime.date(2028, 10, 15), datetime.date(2028, 5, 28), datetime.date(2028, 6, 11), datetime.date(2028, 9, 3), datetime.date(2028, 11, 12), datetime.date(2028, 11, 19), datetime.date(2028, 8, 27), datetime.date(2028, 9, 10)]\n",
      "Final Calendar length: 16\n",
      "Picked Sunday: 2028-10-15\n",
      "Remaining Pool: [datetime.date(2028, 11, 26), datetime.date(2028, 6, 4), datetime.date(2028, 10, 1), datetime.date(2028, 9, 24), datetime.date(2028, 10, 8), datetime.date(2028, 5, 28), datetime.date(2028, 6, 11), datetime.date(2028, 9, 3), datetime.date(2028, 11, 12), datetime.date(2028, 11, 19), datetime.date(2028, 8, 27), datetime.date(2028, 9, 10)]\n",
      "Final Calendar length: 17\n",
      "Picked Sunday: 2028-10-01\n",
      "Remaining Pool: [datetime.date(2028, 11, 26), datetime.date(2028, 6, 4), datetime.date(2028, 5, 28), datetime.date(2028, 6, 11), datetime.date(2028, 9, 3), datetime.date(2028, 11, 12), datetime.date(2028, 11, 19), datetime.date(2028, 8, 27), datetime.date(2028, 9, 10)]\n",
      "Final Calendar length: 18\n",
      "Picked Sunday: 2028-06-11\n",
      "Remaining Pool: [datetime.date(2028, 11, 26), datetime.date(2028, 6, 4), datetime.date(2028, 5, 28), datetime.date(2028, 9, 3), datetime.date(2028, 11, 12), datetime.date(2028, 11, 19), datetime.date(2028, 8, 27), datetime.date(2028, 9, 10)]\n",
      "Final Calendar length: 19\n",
      "Picked Sunday: 2028-11-12\n",
      "Remaining Pool: [datetime.date(2028, 11, 26), datetime.date(2028, 6, 4), datetime.date(2028, 5, 28), datetime.date(2028, 9, 3), datetime.date(2028, 11, 19), datetime.date(2028, 8, 27), datetime.date(2028, 9, 10)]\n",
      "Final Calendar length: 20\n",
      "Picked Sunday: 2028-09-03\n",
      "Remaining Pool: [datetime.date(2028, 11, 26), datetime.date(2028, 6, 4), datetime.date(2028, 5, 28), datetime.date(2028, 11, 19)]\n",
      "Final Calendar length: 21\n",
      "Picked Sunday: 2028-11-26\n",
      "Remaining Pool: [datetime.date(2028, 6, 4), datetime.date(2028, 5, 28)]\n",
      "Final Calendar length: 22\n",
      "Picked Sunday: 2028-06-04\n",
      "Remaining Pool: []\n",
      "Final Calendar length: 23\n"
     ]
    },
    {
     "ename": "IndexError",
     "evalue": "Cannot choose from an empty sequence",
     "output_type": "error",
     "traceback": [
      "\u001b[1;31m---------------------------------------------------------------------------\u001b[0m",
      "\u001b[1;31mIndexError\u001b[0m                                Traceback (most recent call last)",
      "Cell \u001b[1;32mIn[75], line 15\u001b[0m\n\u001b[0;32m     12\u001b[0m random\u001b[38;5;241m.\u001b[39mseed(\u001b[38;5;241m23\u001b[39m)  \u001b[38;5;66;03m# For reproducibility\u001b[39;00m\n\u001b[0;32m     14\u001b[0m \u001b[38;5;28;01mwhile\u001b[39;00m \u001b[38;5;28mlen\u001b[39m(final_calendar) \u001b[38;5;241m<\u001b[39m n:\n\u001b[1;32m---> 15\u001b[0m     picked_sunday \u001b[38;5;241m=\u001b[39m \u001b[43mrandom\u001b[49m\u001b[38;5;241;43m.\u001b[39;49m\u001b[43mchoice\u001b[49m\u001b[43m(\u001b[49m\u001b[43mremaining_pool\u001b[49m\u001b[43m)\u001b[49m\n\u001b[0;32m     16\u001b[0m     final_calendar\u001b[38;5;241m.\u001b[39mappend(picked_sunday)\n\u001b[0;32m     17\u001b[0m     used_sundays\u001b[38;5;241m.\u001b[39madd(picked_sunday)\n",
      "File \u001b[1;32mc:\\Users\\massi\\AppData\\Local\\Programs\\Python\\Python312\\Lib\\random.py:347\u001b[0m, in \u001b[0;36mRandom.choice\u001b[1;34m(self, seq)\u001b[0m\n\u001b[0;32m    344\u001b[0m \u001b[38;5;66;03m# As an accommodation for NumPy, we don't use \"if not seq\"\u001b[39;00m\n\u001b[0;32m    345\u001b[0m \u001b[38;5;66;03m# because bool(numpy.array()) raises a ValueError.\u001b[39;00m\n\u001b[0;32m    346\u001b[0m \u001b[38;5;28;01mif\u001b[39;00m \u001b[38;5;129;01mnot\u001b[39;00m \u001b[38;5;28mlen\u001b[39m(seq):\n\u001b[1;32m--> 347\u001b[0m     \u001b[38;5;28;01mraise\u001b[39;00m \u001b[38;5;167;01mIndexError\u001b[39;00m(\u001b[38;5;124m'\u001b[39m\u001b[38;5;124mCannot choose from an empty sequence\u001b[39m\u001b[38;5;124m'\u001b[39m)\n\u001b[0;32m    348\u001b[0m \u001b[38;5;28;01mreturn\u001b[39;00m seq[\u001b[38;5;28mself\u001b[39m\u001b[38;5;241m.\u001b[39m_randbelow(\u001b[38;5;28mlen\u001b[39m(seq))]\n",
      "\u001b[1;31mIndexError\u001b[0m: Cannot choose from an empty sequence"
     ]
    }
   ],
   "source": [
    "final_calendar = []\n",
    "\n",
    "# Add all Sundays from the selected triplets to the final calendar\n",
    "for triplet in selected_triplets:\n",
    "    final_calendar.extend(triplet)\n",
    "\n",
    "# Ensure the used_sundays set is updated with the triplets\n",
    "used_sundays.update(final_calendar)\n",
    "\n",
    "# Randomly pick Sundays from the remaining pool until final_calendar contains n Sundays\n",
    "remaining_pool = list(set(sundays) - used_sundays)\n",
    "random.seed(23)  # For reproducibility\n",
    "\n",
    "while len(final_calendar) < n:\n",
    "    picked_sunday = random.choice(remaining_pool)\n",
    "    final_calendar.append(picked_sunday)\n",
    "    used_sundays.add(picked_sunday)\n",
    "    remaining_pool.remove(picked_sunday)\n",
    "\n",
    "    # Remove picked_sunday - 7 days if it exists in the remaining pool\n",
    "    minus_7 = picked_sunday - datetime.timedelta(days=7)\n",
    "    minus_14 = picked_sunday - datetime.timedelta(days=14)\n",
    "    if minus_7 in remaining_pool and minus_14 not in remaining_pool:\n",
    "        remaining_pool.remove(minus_7)\n",
    "\n",
    "    # Remove picked_sunday + 7 days if it exists in the remaining pool\n",
    "    plus_7 = picked_sunday + datetime.timedelta(days=7)\n",
    "    plus_14 = picked_sunday + datetime.timedelta(days=14)\n",
    "    if plus_7 in remaining_pool and plus_14 not in remaining_pool:\n",
    "        remaining_pool.remove(plus_7)\n",
    "        \n",
    "    print(f\"Picked Sunday: {picked_sunday}\")\n",
    "    print(f\"Remaining Pool: {remaining_pool}\")\n",
    "    print(f\"Final Calendar length: {len(final_calendar)}\")\n",
    "\n",
    "# Sort the final calendar for chronological order\n",
    "final_calendar.sort()\n",
    "\n",
    "print(\"Final Calendar:\")\n",
    "print(f\"Total Sundays: {len(final_calendar)}\")\n",
    "for sunday in final_calendar:\n",
    "    print(sunday)"
   ]
  },
  {
   "cell_type": "code",
   "execution_count": null,
   "id": "cafa3958",
   "metadata": {},
   "outputs": [
    {
     "name": "stdout",
     "output_type": "stream",
     "text": [
      "Final Race Days:\n",
      "2028-03-05\n",
      "2028-03-12\n",
      "2028-03-19\n",
      "2028-04-02\n",
      "2028-04-09\n",
      "2028-04-16\n",
      "2028-05-14\n",
      "2028-05-21\n",
      "2028-06-04\n",
      "2028-06-18\n",
      "2028-07-02\n",
      "2028-07-09\n",
      "2028-07-16\n",
      "2028-07-30\n",
      "2028-08-27\n",
      "2028-09-10\n",
      "2028-09-17\n",
      "2028-09-24\n",
      "2028-10-08\n",
      "2028-10-15\n",
      "2028-10-22\n",
      "2028-10-29\n",
      "2028-11-12\n",
      "2028-11-19\n",
      "2028-11-26\n"
     ]
    }
   ],
   "source": []
  },
  {
   "cell_type": "code",
   "execution_count": null,
   "id": "cf26630e",
   "metadata": {},
   "outputs": [],
   "source": [
    "complete the calendar in order to take"
   ]
  },
  {
   "cell_type": "code",
   "execution_count": 29,
   "id": "dbec27f3",
   "metadata": {},
   "outputs": [
    {
     "data": {
      "text/plain": [
       "37"
      ]
     },
     "execution_count": 29,
     "metadata": {},
     "output_type": "execute_result"
    }
   ],
   "source": [
    "len(sundays)  # Number of Sundays after filtering"
   ]
  },
  {
   "cell_type": "markdown",
   "id": "57093735",
   "metadata": {},
   "source": [
    "![alt text](image.png)"
   ]
  },
  {
   "cell_type": "code",
   "execution_count": 30,
   "id": "ff32571f",
   "metadata": {},
   "outputs": [],
   "source": [
    "if n == 25:\n",
    "    min_triple_header = 3\n",
    "    max_triple_header = 3\n",
    "elif n > 21:\n",
    "    min_triple_header = 2\n",
    "    max_triple_header = 2\n",
    "elif n > 19:\n",
    "    min_triple_header = 1\n",
    "    max_triple_header = 2\n",
    "else:\n",
    "    min_triple_header = 0\n",
    "    max_triple_header = 2\n",
    "    "
   ]
  },
  {
   "cell_type": "code",
   "execution_count": 31,
   "id": "db30bcab",
   "metadata": {},
   "outputs": [],
   "source": [
    "race_days = []\n",
    "triple_header_count = 0"
   ]
  },
  {
   "cell_type": "code",
   "execution_count": null,
   "id": "14d759dc",
   "metadata": {},
   "outputs": [],
   "source": []
  },
  {
   "cell_type": "code",
   "execution_count": null,
   "id": "f1711731",
   "metadata": {},
   "outputs": [
    {
     "ename": "AssertionError",
     "evalue": "Race count must be between 15 and 25",
     "output_type": "error",
     "traceback": [
      "\u001b[1;31m---------------------------------------------------------------------------\u001b[0m",
      "\u001b[1;31mAssertionError\u001b[0m                            Traceback (most recent call last)",
      "Cell \u001b[1;32mIn[2], line 5\u001b[0m\n\u001b[0;32m      2\u001b[0m n \u001b[38;5;241m=\u001b[39m \u001b[38;5;241m30\u001b[39m\n\u001b[0;32m      4\u001b[0m \u001b[38;5;28;01massert\u001b[39;00m \u001b[38;5;241m2026\u001b[39m \u001b[38;5;241m<\u001b[39m\u001b[38;5;241m=\u001b[39m year \u001b[38;5;241m<\u001b[39m\u001b[38;5;241m=\u001b[39m \u001b[38;5;241m2030\u001b[39m, \u001b[38;5;124m\"\u001b[39m\u001b[38;5;124mYear must be between 2026 and 2030\u001b[39m\u001b[38;5;124m\"\u001b[39m\n\u001b[1;32m----> 5\u001b[0m \u001b[38;5;28;01massert\u001b[39;00m \u001b[38;5;241m15\u001b[39m \u001b[38;5;241m<\u001b[39m\u001b[38;5;241m=\u001b[39m n \u001b[38;5;241m<\u001b[39m\u001b[38;5;241m=\u001b[39m \u001b[38;5;241m25\u001b[39m, \u001b[38;5;124m\"\u001b[39m\u001b[38;5;124mRace count must be between 15 and 25\u001b[39m\u001b[38;5;124m\"\u001b[39m\n\u001b[0;32m      7\u001b[0m random\u001b[38;5;241m.\u001b[39mseed(\u001b[38;5;241m42\u001b[39m)  \u001b[38;5;66;03m# For reproducibility\u001b[39;00m\n\u001b[0;32m      9\u001b[0m \u001b[38;5;66;03m# Step 1: Generate all Sundays in the year\u001b[39;00m\n",
      "\u001b[1;31mAssertionError\u001b[0m: Race count must be between 15 and 25"
     ]
    }
   ],
   "source": [
    "\n",
    "# Step 3: Build the race calendar\n",
    "race_days = []\n",
    "triple_header_count = 0\n",
    "max_triple_headers = 3\n",
    "\n",
    "i = 0\n",
    "while len(race_days) < n and i < len(sundays):\n",
    "    if not race_days:\n",
    "        race_days.append(sundays[i])\n",
    "        i += 1\n",
    "        continue\n",
    "\n",
    "    last_race = race_days[-1]\n",
    "\n",
    "    # Attempt to add triple-header\n",
    "    if (\n",
    "        triple_header_count < max_triple_headers and\n",
    "        len(race_days) + 3 <= n and\n",
    "        i + 2 < len(sundays)\n",
    "    ):\n",
    "        triple = sundays[i:i+3]\n",
    "\n",
    "        # Ensure consecutive Sundays\n",
    "        if (triple[1] - triple[0]).days == 7 and (triple[2] - triple[1]).days == 7:\n",
    "            # Ensure this triple doesn’t create 4-in-a-row\n",
    "            if len(race_days) >= 3:\n",
    "                d1, d2, d3 = race_days[-3], race_days[-2], race_days[-1]\n",
    "                if (d2 - d1).days == 7 and (d3 - d2).days == 7 and (triple[0] - d3).days == 7:\n",
    "                    i += 1\n",
    "                    continue  # would create 4-in-a-row\n",
    "\n",
    "            race_days.extend(triple)\n",
    "            triple_header_count += 1\n",
    "            i += 3\n",
    "            continue\n",
    "\n",
    "    # Else try single race after a gap\n",
    "    next_candidates = sundays[i:]\n",
    "    for candidate in next_candidates:\n",
    "        if candidate <= last_race:\n",
    "            continue\n",
    "\n",
    "        # Avoid 4-in-a-row\n",
    "        if len(race_days) >= 3:\n",
    "            d1, d2, d3 = race_days[-3], race_days[-2], race_days[-1]\n",
    "            if (d2 - d1).days == 7 and (d3 - d2).days == 7 and (candidate - d3).days == 7:\n",
    "                continue\n",
    "\n",
    "        race_days.append(candidate)\n",
    "        i = sundays.index(candidate) + 1\n",
    "        break\n",
    "    else:\n",
    "        break  # No more valid candidates\n",
    "\n",
    "# Truncate if necessary\n",
    "race_days = race_days[:n]"
   ]
  }
 ],
 "metadata": {
  "kernelspec": {
   "display_name": "Python 3",
   "language": "python",
   "name": "python3"
  },
  "language_info": {
   "codemirror_mode": {
    "name": "ipython",
    "version": 3
   },
   "file_extension": ".py",
   "mimetype": "text/x-python",
   "name": "python",
   "nbconvert_exporter": "python",
   "pygments_lexer": "ipython3",
   "version": "3.12.5"
  }
 },
 "nbformat": 4,
 "nbformat_minor": 5
}
