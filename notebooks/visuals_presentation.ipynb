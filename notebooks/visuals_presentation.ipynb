{
 "cells": [
  {
   "cell_type": "code",
   "execution_count": 4,
   "id": "a29f7373",
   "metadata": {},
   "outputs": [],
   "source": [
    "import pandas as pd\n",
    "import sys\n",
    "import os"
   ]
  },
  {
   "cell_type": "code",
   "execution_count": 5,
   "id": "9f069339",
   "metadata": {},
   "outputs": [],
   "source": [
    "# Get the absolute path of the directory where the notebook is currently running\n",
    "# This usually is /path/to/app/folder_notebook\n",
    "notebook_dir = os.getcwd()\n",
    "\n",
    "# Get the absolute path of the 'app' directory (parent of folder_notebook)\n",
    "main_dir = os.path.abspath(os.path.join(notebook_dir, '..'))\n",
    "db_path = os.path.join(main_dir, 'data', 'planet_fone.db')\n",
    "if main_dir not in sys.path:\n",
    "    sys.path.append(main_dir)\n",
    "    \n",
    "from utils import sql\n"
   ]
  },
  {
   "cell_type": "code",
   "execution_count": 21,
   "id": "7ba31c53",
   "metadata": {},
   "outputs": [
    {
     "name": "stdout",
     "output_type": "stream",
     "text": [
      "<class 'pandas.core.frame.DataFrame'>\n",
      "RangeIndex: 2352 entries, 0 to 2351\n",
      "Data columns (total 14 columns):\n",
      " #   Column             Non-Null Count  Dtype  \n",
      "---  ------             --------------  -----  \n",
      " 0   id                 2352 non-null   int64  \n",
      " 1   from_id            2352 non-null   int64  \n",
      " 2   from_circuit       2352 non-null   object \n",
      " 3   to_id              2352 non-null   int64  \n",
      " 4   to_circuit         2352 non-null   object \n",
      " 5   distance_km        2352 non-null   float64\n",
      " 6   transport_mode     0 non-null      object \n",
      " 7   needs_air          2352 non-null   int64  \n",
      " 8   truck_distance_km  456 non-null    float64\n",
      " 9   truck_viable       2352 non-null   int64  \n",
      " 10  truck_emissions    424 non-null    float64\n",
      " 11  air_emissions      2352 non-null   float64\n",
      " 12  effort_score       2352 non-null   float64\n",
      " 13  codes              2352 non-null   object \n",
      "dtypes: float64(5), int64(5), object(4)\n",
      "memory usage: 257.4+ KB\n"
     ]
    }
   ],
   "source": [
    "sql.get_table('travel_logistic', db_path).info()"
   ]
  },
  {
   "cell_type": "code",
   "execution_count": 17,
   "id": "cceaaf1b",
   "metadata": {},
   "outputs": [],
   "source": [
    "df = sql.get_table('fone_geography', db_path)"
   ]
  },
  {
   "cell_type": "code",
   "execution_count": 18,
   "id": "06fb4163",
   "metadata": {},
   "outputs": [],
   "source": [
    "df = df[df['existing']==0]\n",
    "list_locations = df['circuit_x']+', '+df['city_x']+\" (\"+df['country_x']+\")\""
   ]
  },
  {
   "cell_type": "code",
   "execution_count": 19,
   "id": "c31b66f7",
   "metadata": {},
   "outputs": [],
   "source": [
    "list_locations = list(list_locations)"
   ]
  },
  {
   "cell_type": "code",
   "execution_count": 20,
   "id": "168208d4",
   "metadata": {},
   "outputs": [
    {
     "name": "stdout",
     "output_type": "stream",
     "text": [
      "Cape Town, Cape Town (South Africa)\n",
      "Seoul, Seoul (South Korea)\n",
      "Buenos Aires, Buenos Aires (Argentina)\n",
      "Chicago, Chicago (United States)\n",
      "Auckland, Auckland (New Zealand)\n",
      "Riyadh, Riyadh (Saudi Arabia)\n",
      "Lagos, Lagos (Nigeria)\n",
      "Oslo, Oslo (Norway)\n",
      "Kuala Terengganu, Kuala Terengganu (Malaysia)\n",
      "Vancouver, Vancouver (Canada)\n",
      "Madring, Madrid (Spain)\n"
     ]
    }
   ],
   "source": [
    "for l in list_locations:\n",
    "    print(l)"
   ]
  },
  {
   "cell_type": "code",
   "execution_count": null,
   "id": "80e886ee",
   "metadata": {},
   "outputs": [],
   "source": [
    "import sys\n",
    "import os\n",
    "\n",
    "def is_streamlit_local():\n",
    "    \"\"\"\n",
    "    Returns True if running Streamlit locally, False if running in deployed/production.\n",
    "    Checks for 'streamlit' in sys.argv and common Streamlit dev server env vars.\n",
    "    \"\"\"\n",
    "\n",
    "    # Streamlit sets this env var when running locally\n",
    "    if os.environ.get(\"STREAMLIT_SERVER_HEADLESS\") == \"1\":\n",
    "        return True\n",
    "    # Streamlit dev server usually has 'streamlit' in sys.argv[0]\n",
    "    if len(sys.argv) > 0 and \"streamlit\" in sys.argv[0]:\n",
    "        return True\n",
    "    # Deployed versions (e.g., Streamlit Cloud) set this env var\n",
    "    if os.environ.get(\"STREAMLIT_CLOUD\") == \"true\":\n",
    "        return False\n",
    "    return False"
   ]
  }
 ],
 "metadata": {
  "kernelspec": {
   "display_name": "Python 3",
   "language": "python",
   "name": "python3"
  },
  "language_info": {
   "codemirror_mode": {
    "name": "ipython",
    "version": 3
   },
   "file_extension": ".py",
   "mimetype": "text/x-python",
   "name": "python",
   "nbconvert_exporter": "python",
   "pygments_lexer": "ipython3",
   "version": "3.12.5"
  }
 },
 "nbformat": 4,
 "nbformat_minor": 5
}
