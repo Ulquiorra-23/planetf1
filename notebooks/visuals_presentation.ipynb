{
 "cells": [
  {
   "cell_type": "code",
   "execution_count": 1,
   "id": "a29f7373",
   "metadata": {},
   "outputs": [],
   "source": [
    "import pandas as pd\n",
    "import sys\n",
    "import os"
   ]
  },
  {
   "cell_type": "code",
   "execution_count": 2,
   "id": "9f069339",
   "metadata": {},
   "outputs": [],
   "source": [
    "# Get the absolute path of the directory where the notebook is currently running\n",
    "# This usually is /path/to/app/folder_notebook\n",
    "notebook_dir = os.getcwd()\n",
    "\n",
    "# Get the absolute path of the 'app' directory (parent of folder_notebook)\n",
    "main_dir = os.path.abspath(os.path.join(notebook_dir, '..'))\n",
    "db_path = os.path.join(main_dir, 'data', 'planet_fone.db')\n",
    "if main_dir not in sys.path:\n",
    "    sys.path.append(main_dir)\n",
    "    \n",
    "from utils import sql\n"
   ]
  },
  {
   "cell_type": "code",
   "execution_count": 21,
   "id": "7ba31c53",
   "metadata": {},
   "outputs": [
    {
     "name": "stdout",
     "output_type": "stream",
     "text": [
      "<class 'pandas.core.frame.DataFrame'>\n",
      "RangeIndex: 2352 entries, 0 to 2351\n",
      "Data columns (total 14 columns):\n",
      " #   Column             Non-Null Count  Dtype  \n",
      "---  ------             --------------  -----  \n",
      " 0   id                 2352 non-null   int64  \n",
      " 1   from_id            2352 non-null   int64  \n",
      " 2   from_circuit       2352 non-null   object \n",
      " 3   to_id              2352 non-null   int64  \n",
      " 4   to_circuit         2352 non-null   object \n",
      " 5   distance_km        2352 non-null   float64\n",
      " 6   transport_mode     0 non-null      object \n",
      " 7   needs_air          2352 non-null   int64  \n",
      " 8   truck_distance_km  456 non-null    float64\n",
      " 9   truck_viable       2352 non-null   int64  \n",
      " 10  truck_emissions    424 non-null    float64\n",
      " 11  air_emissions      2352 non-null   float64\n",
      " 12  effort_score       2352 non-null   float64\n",
      " 13  codes              2352 non-null   object \n",
      "dtypes: float64(5), int64(5), object(4)\n",
      "memory usage: 257.4+ KB\n"
     ]
    }
   ],
   "source": [
    "sql.get_table('travel_logistic', db_path).info()"
   ]
  },
  {
   "cell_type": "code",
   "execution_count": 17,
   "id": "cceaaf1b",
   "metadata": {},
   "outputs": [],
   "source": [
    "df = sql.get_table('fone_geography', db_path)"
   ]
  },
  {
   "cell_type": "code",
   "execution_count": 18,
   "id": "06fb4163",
   "metadata": {},
   "outputs": [],
   "source": [
    "df = df[df['existing']==0]\n",
    "list_locations = df['circuit_x']+', '+df['city_x']+\" (\"+df['country_x']+\")\""
   ]
  },
  {
   "cell_type": "code",
   "execution_count": 19,
   "id": "c31b66f7",
   "metadata": {},
   "outputs": [],
   "source": [
    "list_locations = list(list_locations)"
   ]
  },
  {
   "cell_type": "code",
   "execution_count": 20,
   "id": "168208d4",
   "metadata": {},
   "outputs": [
    {
     "name": "stdout",
     "output_type": "stream",
     "text": [
      "Cape Town, Cape Town (South Africa)\n",
      "Seoul, Seoul (South Korea)\n",
      "Buenos Aires, Buenos Aires (Argentina)\n",
      "Chicago, Chicago (United States)\n",
      "Auckland, Auckland (New Zealand)\n",
      "Riyadh, Riyadh (Saudi Arabia)\n",
      "Lagos, Lagos (Nigeria)\n",
      "Oslo, Oslo (Norway)\n",
      "Kuala Terengganu, Kuala Terengganu (Malaysia)\n",
      "Vancouver, Vancouver (Canada)\n",
      "Madring, Madrid (Spain)\n"
     ]
    }
   ],
   "source": [
    "for l in list_locations:\n",
    "    print(l)"
   ]
  },
  {
   "cell_type": "code",
   "execution_count": null,
   "id": "80e886ee",
   "metadata": {},
   "outputs": [],
   "source": [
    "import sys\n",
    "import os\n",
    "\n",
    "def is_streamlit_local():\n",
    "    \"\"\"\n",
    "    Returns True if running Streamlit locally, False if running in deployed/production.\n",
    "    Checks for 'streamlit' in sys.argv and common Streamlit dev server env vars.\n",
    "    \"\"\"\n",
    "\n",
    "    # Streamlit sets this env var when running locally\n",
    "    if os.environ.get(\"STREAMLIT_SERVER_HEADLESS\") == \"1\":\n",
    "        return True\n",
    "    # Streamlit dev server usually has 'streamlit' in sys.argv[0]\n",
    "    if len(sys.argv) > 0 and \"streamlit\" in sys.argv[0]:\n",
    "        return True\n",
    "    # Deployed versions (e.g., Streamlit Cloud) set this env var\n",
    "    if os.environ.get(\"STREAMLIT_CLOUD\") == \"true\":\n",
    "        return False\n",
    "    return False"
   ]
  },
  {
   "cell_type": "code",
   "execution_count": 3,
   "id": "9685ada7",
   "metadata": {},
   "outputs": [
    {
     "name": "stdout",
     "output_type": "stream",
     "text": [
      "2025-05-25 18:03:32,501 - INFO - get_table - Executing function: get_table\n",
      "2025-05-25 18:03:32,507 - INFO - get_table - Completed function: get_table\n"
     ]
    }
   ],
   "source": [
    "from utils.sql import get_table\n",
    "\n",
    "FC = get_table('fone_calendar', db_path)"
   ]
  },
  {
   "cell_type": "code",
   "execution_count": 4,
   "id": "74d78a23",
   "metadata": {},
   "outputs": [],
   "source": [
    "FC_2026 = FC[FC['year']==2025].copy()"
   ]
  },
  {
   "cell_type": "code",
   "execution_count": null,
   "id": "a868b7e1",
   "metadata": {},
   "outputs": [],
   "source": [
    "FC_2026_NO_TEST = FC_2026[FC_2026['race_name'].str.endswith('Prix')].copy()\n"
   ]
  },
  {
   "cell_type": "code",
   "execution_count": 10,
   "id": "c29becb1",
   "metadata": {},
   "outputs": [
    {
     "name": "stdout",
     "output_type": "stream",
     "text": [
      "2025-05-25 18:08:17,745 - INFO - get_table - Executing function: get_table\n",
      "2025-05-25 18:08:17,749 - INFO - get_table - Completed function: get_table\n"
     ]
    }
   ],
   "source": [
    "FG = get_table('fone_geography', db_path)\n",
    "FC_2026_NO_TEST = FC_2026_NO_TEST.merge(FG[['id', 'code_6']], left_on='geo_id',right_on='id', how='left')"
   ]
  },
  {
   "cell_type": "code",
   "execution_count": 39,
   "id": "b622979e",
   "metadata": {},
   "outputs": [],
   "source": [
    "current_list = FC_2026_NO_TEST['code_6'].to_list()"
   ]
  },
  {
   "cell_type": "code",
   "execution_count": 40,
   "id": "825772bb",
   "metadata": {},
   "outputs": [],
   "source": [
    "current_list.pop(6)\n",
    "current_list.insert(15, 'SPAMAD')"
   ]
  },
  {
   "cell_type": "code",
   "execution_count": 41,
   "id": "4114e4cd",
   "metadata": {},
   "outputs": [
    {
     "data": {
      "text/plain": [
       "['AUSMEL',\n",
       " 'CHISHA',\n",
       " 'JAPSUZ',\n",
       " 'BAHSAK',\n",
       " 'SAUJED',\n",
       " 'USAMIA',\n",
       " 'MONMON',\n",
       " 'SPACAT',\n",
       " 'CANMON',\n",
       " 'AUSSPI',\n",
       " 'UKGSIL',\n",
       " 'BELSPA',\n",
       " 'HUNBUD',\n",
       " 'NETZAN',\n",
       " 'ITAMON',\n",
       " 'SPAMAD',\n",
       " 'AZEBAK',\n",
       " 'SINMAR',\n",
       " 'USAAUS',\n",
       " 'MEXMEX',\n",
       " 'BRASAO',\n",
       " 'USALAS',\n",
       " 'QATLUS',\n",
       " 'UAEYAS']"
      ]
     },
     "execution_count": 41,
     "metadata": {},
     "output_type": "execute_result"
    }
   ],
   "source": [
    "current_list"
   ]
  },
  {
   "cell_type": "code",
   "execution_count": 21,
   "id": "f4a48d15",
   "metadata": {},
   "outputs": [],
   "source": [
    "from utils.utilities import generate_f1_calendar"
   ]
  },
  {
   "cell_type": "code",
   "execution_count": 42,
   "id": "567b8c71",
   "metadata": {},
   "outputs": [
    {
     "name": "stdout",
     "output_type": "stream",
     "text": [
      "2025-05-25 18:14:40,908 - INFO - generate_f1_calendar - Executing function: generate_f1_calendar\n",
      "2025-05-25 18:14:40,910 - INFO - generate_f1_calendar - Completed function: generate_f1_calendar\n"
     ]
    }
   ],
   "source": [
    "calendar = generate_f1_calendar(2026, n= len(current_list))"
   ]
  },
  {
   "cell_type": "code",
   "execution_count": 43,
   "id": "ff185f47",
   "metadata": {},
   "outputs": [],
   "source": [
    "current_calendar = dict(zip(current_list, calendar))"
   ]
  },
  {
   "cell_type": "code",
   "execution_count": 45,
   "id": "d657797b",
   "metadata": {},
   "outputs": [
    {
     "data": {
      "text/plain": [
       "({'AUSMEL': '22-02',\n",
       "  'CHISHA': '01-03',\n",
       "  'JAPSUZ': '15-03',\n",
       "  'BAHSAK': '22-03',\n",
       "  'SAUJED': '29-03',\n",
       "  'USAMIA': '12-04',\n",
       "  'MONMON': '19-04',\n",
       "  'SPACAT': '03-05',\n",
       "  'CANMON': '10-05',\n",
       "  'AUSSPI': '24-05',\n",
       "  'UKGSIL': '31-05',\n",
       "  'BELSPA': '14-06',\n",
       "  'HUNBUD': '21-06',\n",
       "  'NETZAN': '05-07',\n",
       "  'ITAMON': '12-07',\n",
       "  'SPAMAD': '26-07',\n",
       "  'AZEBAK': '23-08',\n",
       "  'SINMAR': '06-09',\n",
       "  'USAAUS': '13-09',\n",
       "  'MEXMEX': '27-09',\n",
       "  'BRASAO': '04-10',\n",
       "  'USALAS': '11-10',\n",
       "  'QATLUS': '25-10',\n",
       "  'UAEYAS': '01-11'},\n",
       " ['AUSMEL',\n",
       "  'CHISHA',\n",
       "  'JAPSUZ',\n",
       "  'BAHSAK',\n",
       "  'SAUJED',\n",
       "  'USAMIA',\n",
       "  'MONMON',\n",
       "  'SPACAT',\n",
       "  'CANMON',\n",
       "  'AUSSPI',\n",
       "  'UKGSIL',\n",
       "  'BELSPA',\n",
       "  'HUNBUD',\n",
       "  'NETZAN',\n",
       "  'ITAMON',\n",
       "  'SPAMAD',\n",
       "  'AZEBAK',\n",
       "  'SINMAR',\n",
       "  'USAAUS',\n",
       "  'MEXMEX',\n",
       "  'BRASAO',\n",
       "  'USALAS',\n",
       "  'QATLUS',\n",
       "  'UAEYAS'])"
      ]
     },
     "execution_count": 45,
     "metadata": {},
     "output_type": "execute_result"
    }
   ],
   "source": [
    "current_calendar, current_list"
   ]
  },
  {
   "cell_type": "code",
   "execution_count": 46,
   "id": "ac828725",
   "metadata": {},
   "outputs": [],
   "source": [
    "optimized_seq = [\"AUSMEL\",\n",
    "      \"SINMAR\",\n",
    "      \"USAMIA\",\n",
    "      \"USAAUS\",\n",
    "      \"USALAS\",\n",
    "      \"MEXMEX\",\n",
    "      \"CANMON\",\n",
    "      \"JAPSUZ\",\n",
    "      \"CHISHA\",\n",
    "      \"BRASAO\",\n",
    "      \"AZEBAK\",\n",
    "      \"SPACAT\",\n",
    "      \"BELSPA\",\n",
    "      \"NETZAN\",\n",
    "      \"MONMON\",\n",
    "      \"HUNBUD\",\n",
    "      \"UKGSIL\",\n",
    "      \"ITAMON\",\n",
    "      \"SPAMAD\",\n",
    "      \"AUSSPI\",\n",
    "      \"BAHSAK\",\n",
    "      \"SAUJED\",\n",
    "      \"QATLUS\",\n",
    "      \"UAEYAS\"]"
   ]
  },
  {
   "cell_type": "code",
   "execution_count": 48,
   "id": "a835eda0",
   "metadata": {},
   "outputs": [
    {
     "name": "stdout",
     "output_type": "stream",
     "text": [
      "2025-05-25 18:17:58,196 - INFO - load_models - Executing function: load_models\n",
      "2025-05-25 18:17:58,199 - INFO - load_models - Models loaded successfully.\n",
      "2025-05-25 18:17:58,200 - INFO - load_models - Completed function: load_models\n"
     ]
    }
   ],
   "source": [
    "from models.regression import calendar_emissions, load_models\n",
    "air, truck = load_models()"
   ]
  },
  {
   "cell_type": "code",
   "execution_count": 53,
   "id": "06454bd0",
   "metadata": {},
   "outputs": [
    {
     "name": "stdout",
     "output_type": "stream",
     "text": [
      "2025-05-25 18:20:08,190 - INFO - calendar_emissions - Executing function: calendar_emissions\n",
      "2025-05-25 18:20:08,190 - INFO - _generate_features - Executing function: _generate_features\n",
      "2025-05-25 18:20:08,194 - INFO - _generate_features - Completed function: _generate_features\n",
      "2025-05-25 18:20:08,205 - INFO - calendar_emissions - Completed function: calendar_emissions\n"
     ]
    }
   ],
   "source": [
    "cur_air, cur_truck = calendar_emissions(current_list, 2026, air, truck)"
   ]
  },
  {
   "cell_type": "code",
   "execution_count": 54,
   "id": "1157b19d",
   "metadata": {},
   "outputs": [
    {
     "name": "stdout",
     "output_type": "stream",
     "text": [
      "2025-05-25 18:20:09,187 - INFO - calendar_emissions - Executing function: calendar_emissions\n",
      "2025-05-25 18:20:09,189 - INFO - _generate_features - Executing function: _generate_features\n",
      "2025-05-25 18:20:09,191 - INFO - _generate_features - Completed function: _generate_features\n",
      "2025-05-25 18:20:09,206 - INFO - calendar_emissions - Completed function: calendar_emissions\n"
     ]
    }
   ],
   "source": [
    "opt_air, opt_truck = calendar_emissions(optimized_seq, 2026, air, truck)"
   ]
  },
  {
   "cell_type": "code",
   "execution_count": 56,
   "id": "9a2b3a5d",
   "metadata": {},
   "outputs": [
    {
     "name": "stdout",
     "output_type": "stream",
     "text": [
      "Current emissions: 117633.54479376168 kg CO2\n",
      "Optimized emissions: 73581.27119311022 kg CO2\n"
     ]
    }
   ],
   "source": [
    "cur_em = sum(cur_air) + sum(cur_truck)\n",
    "opt_em = sum(opt_air) + sum(opt_truck)\n",
    "print(f\"Current emissions: {cur_em} kg CO2\")\n",
    "print(f\"Optimized emissions: {opt_em} kg CO2\")"
   ]
  },
  {
   "cell_type": "code",
   "execution_count": 61,
   "id": "d8223f89",
   "metadata": {},
   "outputs": [
    {
     "data": {
      "text/plain": [
       "24"
      ]
     },
     "execution_count": 61,
     "metadata": {},
     "output_type": "execute_result"
    }
   ],
   "source": [
    "len(current_list)"
   ]
  },
  {
   "cell_type": "code",
   "execution_count": 59,
   "id": "82aa5ac9",
   "metadata": {},
   "outputs": [
    {
     "data": {
      "text/plain": [
       "(['AUSMEL',\n",
       "  'CHISHA',\n",
       "  'JAPSUZ',\n",
       "  'BAHSAK',\n",
       "  'SAUJED',\n",
       "  'USAMIA',\n",
       "  'MONMON',\n",
       "  'SPACAT',\n",
       "  'CANMON',\n",
       "  'AUSSPI',\n",
       "  'UKGSIL',\n",
       "  'BELSPA',\n",
       "  'HUNBUD',\n",
       "  'NETZAN',\n",
       "  'ITAMON',\n",
       "  'SPAMAD',\n",
       "  'AZEBAK',\n",
       "  'SINMAR',\n",
       "  'USAAUS',\n",
       "  'MEXMEX',\n",
       "  'BRASAO',\n",
       "  'USALAS',\n",
       "  'QATLUS',\n",
       "  'UAEYAS'],\n",
       " ['AUSMEL',\n",
       "  'SINMAR',\n",
       "  'USAMIA',\n",
       "  'USAAUS',\n",
       "  'USALAS',\n",
       "  'MEXMEX',\n",
       "  'CANMON',\n",
       "  'JAPSUZ',\n",
       "  'CHISHA',\n",
       "  'BRASAO',\n",
       "  'AZEBAK',\n",
       "  'SPACAT',\n",
       "  'BELSPA',\n",
       "  'NETZAN',\n",
       "  'MONMON',\n",
       "  'HUNBUD',\n",
       "  'UKGSIL',\n",
       "  'ITAMON',\n",
       "  'SPAMAD',\n",
       "  'AUSSPI',\n",
       "  'BAHSAK',\n",
       "  'SAUJED',\n",
       "  'QATLUS',\n",
       "  'UAEYAS'])"
      ]
     },
     "execution_count": 59,
     "metadata": {},
     "output_type": "execute_result"
    }
   ],
   "source": [
    "current_list,optimized_seq"
   ]
  },
  {
   "cell_type": "code",
   "execution_count": null,
   "id": "19e7c516",
   "metadata": {},
   "outputs": [],
   "source": []
  }
 ],
 "metadata": {
  "kernelspec": {
   "display_name": "Python 3",
   "language": "python",
   "name": "python3"
  },
  "language_info": {
   "codemirror_mode": {
    "name": "ipython",
    "version": 3
   },
   "file_extension": ".py",
   "mimetype": "text/x-python",
   "name": "python",
   "nbconvert_exporter": "python",
   "pygments_lexer": "ipython3",
   "version": "3.12.5"
  }
 },
 "nbformat": 4,
 "nbformat_minor": 5
}
