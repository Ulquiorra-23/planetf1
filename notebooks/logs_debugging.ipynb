{
 "cells": [
  {
   "cell_type": "code",
   "execution_count": 1,
   "id": "2d0dbcb5",
   "metadata": {},
   "outputs": [],
   "source": [
    "import pandas as pd\n",
    "import json\n",
    "from pathlib import Path\n",
    "import os\n",
    "import sys\n",
    "# Get the absolute path of the directory where the notebook is currently running\n",
    "# This usually is /path/to/app/folder_notebook\n",
    "notebook_dir = os.getcwd()\n",
    "\n",
    "# Get the absolute path of the 'app' directory (parent of folder_notebook)\n",
    "main_dir = os.path.abspath(os.path.join(notebook_dir, '..'))\n",
    "db_path = os.path.join(main_dir, 'data', 'planet_fone.db')\n",
    "log_path = os.path.join(main_dir, 'logs')\n",
    "if main_dir not in sys.path:\n",
    "    sys.path.append(main_dir)\n",
    "\n",
    "logs = []\n",
    "for f in Path(log_path).glob('*.json'):\n",
    "    with open(f, 'r') as file:\n",
    "        try:\n",
    "            log = json.load(file)\n",
    "            logs.append(log)\n",
    "        except json.JSONDecodeError as e:\n",
    "            print(f\"Error decoding JSON from {f}: {e}\")"
   ]
  },
  {
   "cell_type": "code",
   "execution_count": 2,
   "id": "cfb4cdb9",
   "metadata": {},
   "outputs": [],
   "source": [
    "run_id = 'GA_RUN_OUTPUT_20250524_110353'"
   ]
  },
  {
   "cell_type": "code",
   "execution_count": 3,
   "id": "d205c8d5",
   "metadata": {},
   "outputs": [],
   "source": [
    "run = next(log for log in logs if log['id'] == run_id)"
   ]
  },
  {
   "cell_type": "code",
   "execution_count": 4,
   "id": "57e6d0eb",
   "metadata": {},
   "outputs": [],
   "source": [
    "best_individual = run['results']['best_individual']\n",
    "calendar = run['results']['calendar']\n",
    "clusters = pd.DataFrame(run['arguments']['circuits_df'])\n",
    "clusters_ordered = clusters.set_index('circuit_name').loc[best_individual]\n",
    "cluster_ids = clusters_ordered['cluster_id'].tolist()"
   ]
  },
  {
   "cell_type": "code",
   "execution_count": 5,
   "id": "c7686197",
   "metadata": {
    "vscode": {
     "languageId": "javascript"
    }
   },
   "outputs": [
    {
     "data": {
      "text/html": [
       "<div>\n",
       "<style scoped>\n",
       "    .dataframe tbody tr th:only-of-type {\n",
       "        vertical-align: middle;\n",
       "    }\n",
       "\n",
       "    .dataframe tbody tr th {\n",
       "        vertical-align: top;\n",
       "    }\n",
       "\n",
       "    .dataframe thead th {\n",
       "        text-align: right;\n",
       "    }\n",
       "</style>\n",
       "<table border=\"1\" class=\"dataframe\">\n",
       "  <thead>\n",
       "    <tr style=\"text-align: right;\">\n",
       "      <th></th>\n",
       "      <th>circuit_name</th>\n",
       "      <th>Date</th>\n",
       "      <th>cluster_id</th>\n",
       "    </tr>\n",
       "  </thead>\n",
       "  <tbody>\n",
       "    <tr>\n",
       "      <th>0</th>\n",
       "      <td>BRASAO</td>\n",
       "      <td>22-02</td>\n",
       "      <td>4</td>\n",
       "    </tr>\n",
       "    <tr>\n",
       "      <th>1</th>\n",
       "      <td>USAMIA</td>\n",
       "      <td>01-03</td>\n",
       "      <td>3</td>\n",
       "    </tr>\n",
       "    <tr>\n",
       "      <th>2</th>\n",
       "      <td>USAAUS</td>\n",
       "      <td>15-03</td>\n",
       "      <td>3</td>\n",
       "    </tr>\n",
       "    <tr>\n",
       "      <th>3</th>\n",
       "      <td>USALAS</td>\n",
       "      <td>22-03</td>\n",
       "      <td>3</td>\n",
       "    </tr>\n",
       "    <tr>\n",
       "      <th>4</th>\n",
       "      <td>MEXMEX</td>\n",
       "      <td>29-03</td>\n",
       "      <td>3</td>\n",
       "    </tr>\n",
       "  </tbody>\n",
       "</table>\n",
       "</div>"
      ],
      "text/plain": [
       "  circuit_name   Date cluster_id\n",
       "0       BRASAO  22-02          4\n",
       "1       USAMIA  01-03          3\n",
       "2       USAAUS  15-03          3\n",
       "3       USALAS  22-03          3\n",
       "4       MEXMEX  29-03          3"
      ]
     },
     "execution_count": 5,
     "metadata": {},
     "output_type": "execute_result"
    }
   ],
   "source": [
    "df_schedule = pd.DataFrame({\n",
    "    'circuit_name': best_individual,\n",
    "    'Date': calendar,\n",
    "    'cluster_id': cluster_ids\n",
    "})\n",
    "df_schedule.head()"
   ]
  },
  {
   "cell_type": "code",
   "execution_count": 6,
   "id": "7828b18f",
   "metadata": {},
   "outputs": [
    {
     "name": "stdout",
     "output_type": "stream",
     "text": [
      "2025-05-24 13:44:51,544 - INFO - get_table - Executing function: get_table\n",
      "2025-05-24 13:44:51,551 - INFO - get_table - Completed function: get_table\n",
      "2025-05-24 13:44:51,552 - INFO - get_table - Executing function: get_table\n",
      "2025-05-24 13:44:51,567 - INFO - get_table - Completed function: get_table\n",
      "2025-05-24 13:44:51,568 - INFO - get_table - Executing function: get_table\n",
      "2025-05-24 13:44:51,572 - INFO - get_table - Completed function: get_table\n",
      "2025-05-24 13:44:51,572 - INFO - get_table - Executing function: get_table\n",
      "2025-05-24 13:44:51,586 - INFO - get_table - Completed function: get_table\n",
      "2025-05-24 13:44:51,587 - INFO - get_table - Executing function: get_table\n",
      "2025-05-24 13:44:51,591 - INFO - get_table - Completed function: get_table\n"
     ]
    }
   ],
   "source": [
    "from models.genetic_ops import calculate_fitness"
   ]
  },
  {
   "cell_type": "code",
   "execution_count": 7,
   "id": "39bda592",
   "metadata": {},
   "outputs": [
    {
     "name": "stdout",
     "output_type": "stream",
     "text": [
      "2025-05-24 13:44:51,601 - INFO - calculate_fitness - Executing function: calculate_fitness\n",
      "2025-05-24 13:44:51,601 - INFO - calculate_fitness - Evaluating Fitness...\n",
      "2025-05-24 13:44:51,603 - INFO - calculate_fitness - Regression is set to False. Using synthetic data for fitness calculation.\n",
      "2025-05-24 13:44:51,604 - INFO - calculate_fitness - Getting travel logistics...\n",
      "2025-05-24 13:44:51,604 - INFO - calculate_fitness - found [23] travel logistic keys\n",
      "2025-05-24 13:44:51,608 - INFO - calculate_fitness - Effort scores: [58.68, 2557.3793901824843, 24.634800000000002, 6596.156673998507, 36.3285, 1477.919226875703,\n",
      "3806.7667173315604, 175.9041, 103.3803, 10258.952648985813, 6057.645989098569, 186.8697,\n",
      "45.001799999999996, 410.74019999999996, 7342.613158821376, 71.4042, 3585.055672063574, 61.65,\n",
      "56.102399999999996, 191.94119999999998, 59.3883, 265.16880000000003, 166.68359999999998]\n",
      "2025-05-24 13:44:51,609 - INFO - calculate_fitness - Total emissions: 43596.37\n",
      "2025-05-24 13:44:51,612 - INFO - calculate_fitness - Cluster dictionary has been created!\n",
      "2025-05-24 13:44:51,613 - INFO - calculate_fitness - Cluster IDs for the given circuit sequence: ['4', '3', '3', '3', '3', '3', '2', '2', '2', '2', '0', '0', '0', '0', '0', '0', '0', '0', '0', '0',\n",
      "'5', '5', '6', '1']\n",
      "2025-05-24 13:44:51,614 - INFO - fragmentation_score - Executing function: fragmentation_score\n",
      "2025-05-24 13:44:51,615 - INFO - fragmentation_score - Fragmentation score: 0.0\n",
      "2025-05-24 13:44:51,615 - INFO - fragmentation_score - Completed function: fragmentation_score\n",
      "2025-05-24 13:44:51,616 - INFO - calculate_fitness - Fragmentation score: 0.0\n",
      "2025-05-24 13:44:51,618 - INFO - calculate_fitness - Weight: 7344.420329344677\n",
      "2025-05-24 13:44:51,619 - INFO - generate_f1_calendar - Executing function: generate_f1_calendar\n",
      "2025-05-24 13:44:51,620 - INFO - generate_f1_calendar - Completed function: generate_f1_calendar\n",
      "2025-05-24 13:44:51,621 - INFO - calculate_fitness - Generated calendar: ['22-02', '01-03', '15-03', '22-03', '29-03', '12-04', '19-04', '03-05', '10-05', '24-05', '31-05',\n",
      "'14-06', '21-06', '05-07', '12-07', '26-07', '23-08', '06-09', '13-09', '27-09', '04-10', '11-10',\n",
      "'25-10', '01-11']\n",
      "2025-05-24 13:44:51,627 - INFO - calculate_fitness - Conflict for circuit UAEYAS: assigned month 5 is in months to avoid [5, 6, 7, 8].\n",
      "2025-05-24 13:44:51,631 - INFO - calculate_fitness - Conflict for circuit JAPSUZ: assigned month 10 is in months to avoid [9, 10].\n",
      "2025-05-24 13:44:51,632 - INFO - calculate_fitness - Total conflict penalties: 43596.37\n",
      "2025-05-24 13:44:51,634 - INFO - calculate_fitness - Calculated fitness for sequence:\n",
      "2025-05-24 13:44:51,635 - INFO - logls - Executing function: logls\n",
      "2025-05-24 13:44:51,636 - INFO - logls - BRASAO, USAMIA, USAAUS, USALAS, MEXMEX\n",
      "2025-05-24 13:44:51,637 - INFO - logls - CANMON, BAHSAK, QATLUS, UAEYAS, SAUJED\n",
      "2025-05-24 13:44:51,637 - INFO - logls - AUSSPI, NETZAN, UKGSIL, BELSPA, ITAMON\n",
      "2025-05-24 13:44:51,638 - INFO - logls - ITAIMO, MONMON, SPACAT, HUNBUD, AZEBAK\n",
      "2025-05-24 13:44:51,638 - INFO - logls - JAPSUZ, CHISHA, SINMAR, AUSMEL\n",
      "2025-05-24 13:44:51,639 - INFO - logls - Completed function: logls\n",
      "2025-05-24 13:44:51,639 - INFO - calculate_fitness - Total cluster penalties: 0.0\n",
      "2025-05-24 13:44:51,640 - INFO - calculate_fitness - Total conflict penalties: 43596.37\n",
      "2025-05-24 13:44:51,641 - INFO - calculate_fitness - Total penalties: 43596.37\n",
      "2025-05-24 13:44:51,642 - INFO - calculate_fitness - Total emissions: 43596.37\n",
      "2025-05-24 13:44:51,643 - INFO - calculate_fitness - Total fitness score: 87192.74\n",
      "2025-05-24 13:44:51,645 - INFO - calculate_fitness - Fitness calculation completed.\n",
      "2025-05-24 13:44:51,646 - INFO - calculate_fitness - Completed function: calculate_fitness\n"
     ]
    },
    {
     "data": {
      "text/plain": [
       "(87192.74,)"
      ]
     },
     "execution_count": 7,
     "metadata": {},
     "output_type": "execute_result"
    }
   ],
   "source": [
    "calculate_fitness(circuits_seq= df_schedule['circuit_name'].tolist(), circuits_df=df_schedule[['circuit_name', 'cluster_id']], db_path=db_path, season=2026, regression=False, clusters=True, verbose=True)"
   ]
  },
  {
   "cell_type": "code",
   "execution_count": 8,
   "id": "4f68d4c7",
   "metadata": {},
   "outputs": [],
   "source": [
    "str=['[11, 12, 1, 2]']"
   ]
  },
  {
   "cell_type": "code",
   "execution_count": 9,
   "id": "31ef8857",
   "metadata": {},
   "outputs": [
    {
     "ename": "AttributeError",
     "evalue": "'list' object has no attribute 'split'",
     "output_type": "error",
     "traceback": [
      "\u001b[1;31m---------------------------------------------------------------------------\u001b[0m",
      "\u001b[1;31mAttributeError\u001b[0m                            Traceback (most recent call last)",
      "Cell \u001b[1;32mIn[9], line 1\u001b[0m\n\u001b[1;32m----> 1\u001b[0m \u001b[38;5;28mprint\u001b[39m([\u001b[38;5;28mint\u001b[39m(m) \u001b[38;5;28;01mfor\u001b[39;00m m \u001b[38;5;129;01min\u001b[39;00m \u001b[38;5;28;43mstr\u001b[39;49m\u001b[38;5;241;43m.\u001b[39;49m\u001b[43msplit\u001b[49m(\u001b[38;5;124m'\u001b[39m\u001b[38;5;124m,\u001b[39m\u001b[38;5;124m'\u001b[39m)])\n",
      "\u001b[1;31mAttributeError\u001b[0m: 'list' object has no attribute 'split'"
     ]
    }
   ],
   "source": [
    "print([int(m) for m in str.split(',')])"
   ]
  },
  {
   "cell_type": "code",
   "execution_count": null,
   "id": "b906f92a",
   "metadata": {},
   "outputs": [],
   "source": []
  }
 ],
 "metadata": {
  "kernelspec": {
   "display_name": "Python 3",
   "language": "python",
   "name": "python3"
  },
  "language_info": {
   "codemirror_mode": {
    "name": "ipython",
    "version": 3
   },
   "file_extension": ".py",
   "mimetype": "text/x-python",
   "name": "python",
   "nbconvert_exporter": "python",
   "pygments_lexer": "ipython3",
   "version": "3.12.5"
  }
 },
 "nbformat": 4,
 "nbformat_minor": 5
}
